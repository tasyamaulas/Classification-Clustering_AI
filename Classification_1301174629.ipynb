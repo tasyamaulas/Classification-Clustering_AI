{
  "nbformat": 4,
  "nbformat_minor": 0,
  "metadata": {
    "colab": {
      "name": "Classification_1301174629.ipynb",
      "provenance": [],
      "collapsed_sections": [],
      "machine_shape": "hm"
    },
    "kernelspec": {
      "name": "python3",
      "display_name": "Python 3"
    }
  },
  "cells": [
    {
      "cell_type": "markdown",
      "metadata": {
        "id": "ODaCaTav6Xrf",
        "colab_type": "text"
      },
      "source": [
        "data preparation, untuk menyiapkan data untuk classification "
      ]
    },
    {
      "cell_type": "code",
      "metadata": {
        "id": "dssSTuLdm34g",
        "colab_type": "code",
        "colab": {}
      },
      "source": [
        "import pandas as pd\n",
        "import numpy as np \n",
        "from matplotlib import pyplot as plt"
      ],
      "execution_count": 0,
      "outputs": []
    },
    {
      "cell_type": "code",
      "metadata": {
        "id": "3F7_3nAenEPN",
        "colab_type": "code",
        "outputId": "e06a8e14-d979-4ade-fe3f-3cf6c49a4a48",
        "colab": {
          "resources": {
            "http://localhost:8080/nbextensions/google.colab/files.js": {
              "data": "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",
              "ok": true,
              "headers": [
                [
                  "content-type",
                  "application/javascript"
                ]
              ],
              "status": 200,
              "status_text": ""
            }
          },
          "base_uri": "https://localhost:8080/",
          "height": 74
        }
      },
      "source": [
        "from google.colab import files\n",
        "uploaded = files.upload()"
      ],
      "execution_count": 3,
      "outputs": [
        {
          "output_type": "display_data",
          "data": {
            "text/html": [
              "\n",
              "     <input type=\"file\" id=\"files-12076108-4df0-46d5-88a8-16647847bd11\" name=\"files[]\" multiple disabled />\n",
              "     <output id=\"result-12076108-4df0-46d5-88a8-16647847bd11\">\n",
              "      Upload widget is only available when the cell has been executed in the\n",
              "      current browser session. Please rerun this cell to enable.\n",
              "      </output>\n",
              "      <script src=\"/nbextensions/google.colab/files.js\"></script> "
            ],
            "text/plain": [
              "<IPython.core.display.HTML object>"
            ]
          },
          "metadata": {
            "tags": []
          }
        },
        {
          "output_type": "stream",
          "text": [
            "Saving fifa20.csv to fifa20.csv\n"
          ],
          "name": "stdout"
        }
      ]
    },
    {
      "cell_type": "code",
      "metadata": {
        "id": "8wmiY0q1oWqx",
        "colab_type": "code",
        "outputId": "34c816be-9b8a-45d0-df7a-c6ec2b8c19c9",
        "colab": {
          "base_uri": "https://localhost:8080/",
          "height": 479
        }
      },
      "source": [
        "import io\n",
        "dataset = pd.read_csv(io.BytesIO(uploaded['fifa20.csv']))\n",
        "dataset.head()"
      ],
      "execution_count": 4,
      "outputs": [
        {
          "output_type": "execute_result",
          "data": {
            "text/html": [
              "<div>\n",
              "<style scoped>\n",
              "    .dataframe tbody tr th:only-of-type {\n",
              "        vertical-align: middle;\n",
              "    }\n",
              "\n",
              "    .dataframe tbody tr th {\n",
              "        vertical-align: top;\n",
              "    }\n",
              "\n",
              "    .dataframe thead th {\n",
              "        text-align: right;\n",
              "    }\n",
              "</style>\n",
              "<table border=\"1\" class=\"dataframe\">\n",
              "  <thead>\n",
              "    <tr style=\"text-align: right;\">\n",
              "      <th></th>\n",
              "      <th>sofifa_id</th>\n",
              "      <th>player_url</th>\n",
              "      <th>short_name</th>\n",
              "      <th>long_name</th>\n",
              "      <th>age</th>\n",
              "      <th>dob</th>\n",
              "      <th>height_cm</th>\n",
              "      <th>weight_kg</th>\n",
              "      <th>nationality</th>\n",
              "      <th>club</th>\n",
              "      <th>overall</th>\n",
              "      <th>potential</th>\n",
              "      <th>value_eur</th>\n",
              "      <th>wage_eur</th>\n",
              "      <th>player_positions</th>\n",
              "      <th>preferred_foot</th>\n",
              "      <th>international_reputation</th>\n",
              "      <th>weak_foot</th>\n",
              "      <th>skill_moves</th>\n",
              "      <th>work_rate</th>\n",
              "      <th>body_type</th>\n",
              "      <th>real_face</th>\n",
              "      <th>release_clause_eur</th>\n",
              "      <th>player_tags</th>\n",
              "      <th>team_position</th>\n",
              "      <th>team_jersey_number</th>\n",
              "      <th>loaned_from</th>\n",
              "      <th>joined</th>\n",
              "      <th>contract_valid_until</th>\n",
              "      <th>nation_position</th>\n",
              "      <th>nation_jersey_number</th>\n",
              "      <th>pace</th>\n",
              "      <th>shooting</th>\n",
              "      <th>passing</th>\n",
              "      <th>dribbling</th>\n",
              "      <th>defending</th>\n",
              "      <th>physic</th>\n",
              "      <th>gk_diving</th>\n",
              "      <th>gk_handling</th>\n",
              "      <th>gk_kicking</th>\n",
              "      <th>...</th>\n",
              "      <th>mentality_aggression</th>\n",
              "      <th>mentality_interceptions</th>\n",
              "      <th>mentality_positioning</th>\n",
              "      <th>mentality_vision</th>\n",
              "      <th>mentality_penalties</th>\n",
              "      <th>mentality_composure</th>\n",
              "      <th>defending_marking</th>\n",
              "      <th>defending_standing_tackle</th>\n",
              "      <th>defending_sliding_tackle</th>\n",
              "      <th>goalkeeping_diving</th>\n",
              "      <th>goalkeeping_handling</th>\n",
              "      <th>goalkeeping_kicking</th>\n",
              "      <th>goalkeeping_positioning</th>\n",
              "      <th>goalkeeping_reflexes</th>\n",
              "      <th>ls</th>\n",
              "      <th>st</th>\n",
              "      <th>rs</th>\n",
              "      <th>lw</th>\n",
              "      <th>lf</th>\n",
              "      <th>cf</th>\n",
              "      <th>rf</th>\n",
              "      <th>rw</th>\n",
              "      <th>lam</th>\n",
              "      <th>cam</th>\n",
              "      <th>ram</th>\n",
              "      <th>lm</th>\n",
              "      <th>lcm</th>\n",
              "      <th>cm</th>\n",
              "      <th>rcm</th>\n",
              "      <th>rm</th>\n",
              "      <th>lwb</th>\n",
              "      <th>ldm</th>\n",
              "      <th>cdm</th>\n",
              "      <th>rdm</th>\n",
              "      <th>rwb</th>\n",
              "      <th>lb</th>\n",
              "      <th>lcb</th>\n",
              "      <th>cb</th>\n",
              "      <th>rcb</th>\n",
              "      <th>rb</th>\n",
              "    </tr>\n",
              "  </thead>\n",
              "  <tbody>\n",
              "    <tr>\n",
              "      <th>0</th>\n",
              "      <td>158023</td>\n",
              "      <td>https://sofifa.com/player/158023/lionel-messi/...</td>\n",
              "      <td>L. Messi</td>\n",
              "      <td>Lionel Andrés Messi Cuccittini</td>\n",
              "      <td>32</td>\n",
              "      <td>1987-06-24</td>\n",
              "      <td>170</td>\n",
              "      <td>72</td>\n",
              "      <td>Argentina</td>\n",
              "      <td>FC Barcelona</td>\n",
              "      <td>94</td>\n",
              "      <td>94</td>\n",
              "      <td>95500000</td>\n",
              "      <td>565000</td>\n",
              "      <td>RW, CF, ST</td>\n",
              "      <td>Left</td>\n",
              "      <td>5</td>\n",
              "      <td>4</td>\n",
              "      <td>4</td>\n",
              "      <td>Medium/Low</td>\n",
              "      <td>Messi</td>\n",
              "      <td>Yes</td>\n",
              "      <td>195800000.0</td>\n",
              "      <td>#Dribbler, #Distance Shooter, #Crosser, #FK Sp...</td>\n",
              "      <td>RW</td>\n",
              "      <td>10.0</td>\n",
              "      <td>NaN</td>\n",
              "      <td>2004-07-01</td>\n",
              "      <td>2021.0</td>\n",
              "      <td>NaN</td>\n",
              "      <td>NaN</td>\n",
              "      <td>87.0</td>\n",
              "      <td>92.0</td>\n",
              "      <td>92.0</td>\n",
              "      <td>96.0</td>\n",
              "      <td>39.0</td>\n",
              "      <td>66.0</td>\n",
              "      <td>NaN</td>\n",
              "      <td>NaN</td>\n",
              "      <td>NaN</td>\n",
              "      <td>...</td>\n",
              "      <td>48</td>\n",
              "      <td>40</td>\n",
              "      <td>94</td>\n",
              "      <td>94</td>\n",
              "      <td>75</td>\n",
              "      <td>96</td>\n",
              "      <td>33</td>\n",
              "      <td>37</td>\n",
              "      <td>26</td>\n",
              "      <td>6</td>\n",
              "      <td>11</td>\n",
              "      <td>15</td>\n",
              "      <td>14</td>\n",
              "      <td>8</td>\n",
              "      <td>89+2</td>\n",
              "      <td>89+2</td>\n",
              "      <td>89+2</td>\n",
              "      <td>93+2</td>\n",
              "      <td>93+2</td>\n",
              "      <td>93+2</td>\n",
              "      <td>93+2</td>\n",
              "      <td>93+2</td>\n",
              "      <td>93+2</td>\n",
              "      <td>93+2</td>\n",
              "      <td>93+2</td>\n",
              "      <td>92+2</td>\n",
              "      <td>87+2</td>\n",
              "      <td>87+2</td>\n",
              "      <td>87+2</td>\n",
              "      <td>92+2</td>\n",
              "      <td>68+2</td>\n",
              "      <td>66+2</td>\n",
              "      <td>66+2</td>\n",
              "      <td>66+2</td>\n",
              "      <td>68+2</td>\n",
              "      <td>63+2</td>\n",
              "      <td>52+2</td>\n",
              "      <td>52+2</td>\n",
              "      <td>52+2</td>\n",
              "      <td>63+2</td>\n",
              "    </tr>\n",
              "    <tr>\n",
              "      <th>1</th>\n",
              "      <td>20801</td>\n",
              "      <td>https://sofifa.com/player/20801/c-ronaldo-dos-...</td>\n",
              "      <td>Cristiano Ronaldo</td>\n",
              "      <td>Cristiano Ronaldo dos Santos Aveiro</td>\n",
              "      <td>34</td>\n",
              "      <td>1985-02-05</td>\n",
              "      <td>187</td>\n",
              "      <td>83</td>\n",
              "      <td>Portugal</td>\n",
              "      <td>Juventus</td>\n",
              "      <td>93</td>\n",
              "      <td>93</td>\n",
              "      <td>58500000</td>\n",
              "      <td>405000</td>\n",
              "      <td>ST, LW</td>\n",
              "      <td>Right</td>\n",
              "      <td>5</td>\n",
              "      <td>4</td>\n",
              "      <td>5</td>\n",
              "      <td>High/Low</td>\n",
              "      <td>C. Ronaldo</td>\n",
              "      <td>Yes</td>\n",
              "      <td>96500000.0</td>\n",
              "      <td>#Speedster, #Dribbler, #Distance Shooter, #Acr...</td>\n",
              "      <td>LW</td>\n",
              "      <td>7.0</td>\n",
              "      <td>NaN</td>\n",
              "      <td>2018-07-10</td>\n",
              "      <td>2022.0</td>\n",
              "      <td>LS</td>\n",
              "      <td>7.0</td>\n",
              "      <td>90.0</td>\n",
              "      <td>93.0</td>\n",
              "      <td>82.0</td>\n",
              "      <td>89.0</td>\n",
              "      <td>35.0</td>\n",
              "      <td>78.0</td>\n",
              "      <td>NaN</td>\n",
              "      <td>NaN</td>\n",
              "      <td>NaN</td>\n",
              "      <td>...</td>\n",
              "      <td>63</td>\n",
              "      <td>29</td>\n",
              "      <td>95</td>\n",
              "      <td>82</td>\n",
              "      <td>85</td>\n",
              "      <td>95</td>\n",
              "      <td>28</td>\n",
              "      <td>32</td>\n",
              "      <td>24</td>\n",
              "      <td>7</td>\n",
              "      <td>11</td>\n",
              "      <td>15</td>\n",
              "      <td>14</td>\n",
              "      <td>11</td>\n",
              "      <td>91+3</td>\n",
              "      <td>91+3</td>\n",
              "      <td>91+3</td>\n",
              "      <td>89+3</td>\n",
              "      <td>90+3</td>\n",
              "      <td>90+3</td>\n",
              "      <td>90+3</td>\n",
              "      <td>89+3</td>\n",
              "      <td>88+3</td>\n",
              "      <td>88+3</td>\n",
              "      <td>88+3</td>\n",
              "      <td>88+3</td>\n",
              "      <td>81+3</td>\n",
              "      <td>81+3</td>\n",
              "      <td>81+3</td>\n",
              "      <td>88+3</td>\n",
              "      <td>65+3</td>\n",
              "      <td>61+3</td>\n",
              "      <td>61+3</td>\n",
              "      <td>61+3</td>\n",
              "      <td>65+3</td>\n",
              "      <td>61+3</td>\n",
              "      <td>53+3</td>\n",
              "      <td>53+3</td>\n",
              "      <td>53+3</td>\n",
              "      <td>61+3</td>\n",
              "    </tr>\n",
              "    <tr>\n",
              "      <th>2</th>\n",
              "      <td>190871</td>\n",
              "      <td>https://sofifa.com/player/190871/neymar-da-sil...</td>\n",
              "      <td>Neymar Jr</td>\n",
              "      <td>Neymar da Silva Santos Junior</td>\n",
              "      <td>27</td>\n",
              "      <td>1992-02-05</td>\n",
              "      <td>175</td>\n",
              "      <td>68</td>\n",
              "      <td>Brazil</td>\n",
              "      <td>Paris Saint-Germain</td>\n",
              "      <td>92</td>\n",
              "      <td>92</td>\n",
              "      <td>105500000</td>\n",
              "      <td>290000</td>\n",
              "      <td>LW, CAM</td>\n",
              "      <td>Right</td>\n",
              "      <td>5</td>\n",
              "      <td>5</td>\n",
              "      <td>5</td>\n",
              "      <td>High/Medium</td>\n",
              "      <td>Neymar</td>\n",
              "      <td>Yes</td>\n",
              "      <td>195200000.0</td>\n",
              "      <td>#Speedster, #Dribbler, #Playmaker  , #Crosser,...</td>\n",
              "      <td>CAM</td>\n",
              "      <td>10.0</td>\n",
              "      <td>NaN</td>\n",
              "      <td>2017-08-03</td>\n",
              "      <td>2022.0</td>\n",
              "      <td>LW</td>\n",
              "      <td>10.0</td>\n",
              "      <td>91.0</td>\n",
              "      <td>85.0</td>\n",
              "      <td>87.0</td>\n",
              "      <td>95.0</td>\n",
              "      <td>32.0</td>\n",
              "      <td>58.0</td>\n",
              "      <td>NaN</td>\n",
              "      <td>NaN</td>\n",
              "      <td>NaN</td>\n",
              "      <td>...</td>\n",
              "      <td>51</td>\n",
              "      <td>36</td>\n",
              "      <td>87</td>\n",
              "      <td>90</td>\n",
              "      <td>90</td>\n",
              "      <td>94</td>\n",
              "      <td>27</td>\n",
              "      <td>26</td>\n",
              "      <td>29</td>\n",
              "      <td>9</td>\n",
              "      <td>9</td>\n",
              "      <td>15</td>\n",
              "      <td>15</td>\n",
              "      <td>11</td>\n",
              "      <td>84+3</td>\n",
              "      <td>84+3</td>\n",
              "      <td>84+3</td>\n",
              "      <td>90+3</td>\n",
              "      <td>89+3</td>\n",
              "      <td>89+3</td>\n",
              "      <td>89+3</td>\n",
              "      <td>90+3</td>\n",
              "      <td>90+3</td>\n",
              "      <td>90+3</td>\n",
              "      <td>90+3</td>\n",
              "      <td>89+3</td>\n",
              "      <td>82+3</td>\n",
              "      <td>82+3</td>\n",
              "      <td>82+3</td>\n",
              "      <td>89+3</td>\n",
              "      <td>66+3</td>\n",
              "      <td>61+3</td>\n",
              "      <td>61+3</td>\n",
              "      <td>61+3</td>\n",
              "      <td>66+3</td>\n",
              "      <td>61+3</td>\n",
              "      <td>46+3</td>\n",
              "      <td>46+3</td>\n",
              "      <td>46+3</td>\n",
              "      <td>61+3</td>\n",
              "    </tr>\n",
              "    <tr>\n",
              "      <th>3</th>\n",
              "      <td>200389</td>\n",
              "      <td>https://sofifa.com/player/200389/jan-oblak/20/...</td>\n",
              "      <td>J. Oblak</td>\n",
              "      <td>Jan Oblak</td>\n",
              "      <td>26</td>\n",
              "      <td>1993-01-07</td>\n",
              "      <td>188</td>\n",
              "      <td>87</td>\n",
              "      <td>Slovenia</td>\n",
              "      <td>Atlético Madrid</td>\n",
              "      <td>91</td>\n",
              "      <td>93</td>\n",
              "      <td>77500000</td>\n",
              "      <td>125000</td>\n",
              "      <td>GK</td>\n",
              "      <td>Right</td>\n",
              "      <td>3</td>\n",
              "      <td>3</td>\n",
              "      <td>1</td>\n",
              "      <td>Medium/Medium</td>\n",
              "      <td>Normal</td>\n",
              "      <td>Yes</td>\n",
              "      <td>164700000.0</td>\n",
              "      <td>NaN</td>\n",
              "      <td>GK</td>\n",
              "      <td>13.0</td>\n",
              "      <td>NaN</td>\n",
              "      <td>2014-07-16</td>\n",
              "      <td>2023.0</td>\n",
              "      <td>GK</td>\n",
              "      <td>1.0</td>\n",
              "      <td>NaN</td>\n",
              "      <td>NaN</td>\n",
              "      <td>NaN</td>\n",
              "      <td>NaN</td>\n",
              "      <td>NaN</td>\n",
              "      <td>NaN</td>\n",
              "      <td>87.0</td>\n",
              "      <td>92.0</td>\n",
              "      <td>78.0</td>\n",
              "      <td>...</td>\n",
              "      <td>34</td>\n",
              "      <td>19</td>\n",
              "      <td>11</td>\n",
              "      <td>65</td>\n",
              "      <td>11</td>\n",
              "      <td>68</td>\n",
              "      <td>27</td>\n",
              "      <td>12</td>\n",
              "      <td>18</td>\n",
              "      <td>87</td>\n",
              "      <td>92</td>\n",
              "      <td>78</td>\n",
              "      <td>90</td>\n",
              "      <td>89</td>\n",
              "      <td>NaN</td>\n",
              "      <td>NaN</td>\n",
              "      <td>NaN</td>\n",
              "      <td>NaN</td>\n",
              "      <td>NaN</td>\n",
              "      <td>NaN</td>\n",
              "      <td>NaN</td>\n",
              "      <td>NaN</td>\n",
              "      <td>NaN</td>\n",
              "      <td>NaN</td>\n",
              "      <td>NaN</td>\n",
              "      <td>NaN</td>\n",
              "      <td>NaN</td>\n",
              "      <td>NaN</td>\n",
              "      <td>NaN</td>\n",
              "      <td>NaN</td>\n",
              "      <td>NaN</td>\n",
              "      <td>NaN</td>\n",
              "      <td>NaN</td>\n",
              "      <td>NaN</td>\n",
              "      <td>NaN</td>\n",
              "      <td>NaN</td>\n",
              "      <td>NaN</td>\n",
              "      <td>NaN</td>\n",
              "      <td>NaN</td>\n",
              "      <td>NaN</td>\n",
              "    </tr>\n",
              "    <tr>\n",
              "      <th>4</th>\n",
              "      <td>183277</td>\n",
              "      <td>https://sofifa.com/player/183277/eden-hazard/2...</td>\n",
              "      <td>E. Hazard</td>\n",
              "      <td>Eden Hazard</td>\n",
              "      <td>28</td>\n",
              "      <td>1991-01-07</td>\n",
              "      <td>175</td>\n",
              "      <td>74</td>\n",
              "      <td>Belgium</td>\n",
              "      <td>Real Madrid</td>\n",
              "      <td>91</td>\n",
              "      <td>91</td>\n",
              "      <td>90000000</td>\n",
              "      <td>470000</td>\n",
              "      <td>LW, CF</td>\n",
              "      <td>Right</td>\n",
              "      <td>4</td>\n",
              "      <td>4</td>\n",
              "      <td>4</td>\n",
              "      <td>High/Medium</td>\n",
              "      <td>Normal</td>\n",
              "      <td>Yes</td>\n",
              "      <td>184500000.0</td>\n",
              "      <td>#Speedster, #Dribbler, #Acrobat</td>\n",
              "      <td>LW</td>\n",
              "      <td>7.0</td>\n",
              "      <td>NaN</td>\n",
              "      <td>2019-07-01</td>\n",
              "      <td>2024.0</td>\n",
              "      <td>LF</td>\n",
              "      <td>10.0</td>\n",
              "      <td>91.0</td>\n",
              "      <td>83.0</td>\n",
              "      <td>86.0</td>\n",
              "      <td>94.0</td>\n",
              "      <td>35.0</td>\n",
              "      <td>66.0</td>\n",
              "      <td>NaN</td>\n",
              "      <td>NaN</td>\n",
              "      <td>NaN</td>\n",
              "      <td>...</td>\n",
              "      <td>54</td>\n",
              "      <td>41</td>\n",
              "      <td>87</td>\n",
              "      <td>89</td>\n",
              "      <td>88</td>\n",
              "      <td>91</td>\n",
              "      <td>34</td>\n",
              "      <td>27</td>\n",
              "      <td>22</td>\n",
              "      <td>11</td>\n",
              "      <td>12</td>\n",
              "      <td>6</td>\n",
              "      <td>8</td>\n",
              "      <td>8</td>\n",
              "      <td>83+3</td>\n",
              "      <td>83+3</td>\n",
              "      <td>83+3</td>\n",
              "      <td>89+3</td>\n",
              "      <td>88+3</td>\n",
              "      <td>88+3</td>\n",
              "      <td>88+3</td>\n",
              "      <td>89+3</td>\n",
              "      <td>89+3</td>\n",
              "      <td>89+3</td>\n",
              "      <td>89+3</td>\n",
              "      <td>89+3</td>\n",
              "      <td>83+3</td>\n",
              "      <td>83+3</td>\n",
              "      <td>83+3</td>\n",
              "      <td>89+3</td>\n",
              "      <td>66+3</td>\n",
              "      <td>63+3</td>\n",
              "      <td>63+3</td>\n",
              "      <td>63+3</td>\n",
              "      <td>66+3</td>\n",
              "      <td>61+3</td>\n",
              "      <td>49+3</td>\n",
              "      <td>49+3</td>\n",
              "      <td>49+3</td>\n",
              "      <td>61+3</td>\n",
              "    </tr>\n",
              "  </tbody>\n",
              "</table>\n",
              "<p>5 rows × 104 columns</p>\n",
              "</div>"
            ],
            "text/plain": [
              "   sofifa_id                                         player_url  ...   rcb    rb\n",
              "0     158023  https://sofifa.com/player/158023/lionel-messi/...  ...  52+2  63+2\n",
              "1      20801  https://sofifa.com/player/20801/c-ronaldo-dos-...  ...  53+3  61+3\n",
              "2     190871  https://sofifa.com/player/190871/neymar-da-sil...  ...  46+3  61+3\n",
              "3     200389  https://sofifa.com/player/200389/jan-oblak/20/...  ...   NaN   NaN\n",
              "4     183277  https://sofifa.com/player/183277/eden-hazard/2...  ...  49+3  61+3\n",
              "\n",
              "[5 rows x 104 columns]"
            ]
          },
          "metadata": {
            "tags": []
          },
          "execution_count": 4
        }
      ]
    },
    {
      "cell_type": "code",
      "metadata": {
        "id": "fw1CYIQznK79",
        "colab_type": "code",
        "outputId": "56155cae-d237-49ee-bdf5-01a69ac37108",
        "colab": {
          "base_uri": "https://localhost:8080/",
          "height": 402
        }
      },
      "source": [
        "#melakukan pemotongan data\n",
        "dataset = pd.DataFrame(dataset, columns=[\"sofifa_id\",'age', 'height_cm', 'weight_kg','overall', 'potential','skill_moves'])\n",
        "dataset"
      ],
      "execution_count": 5,
      "outputs": [
        {
          "output_type": "execute_result",
          "data": {
            "text/html": [
              "<div>\n",
              "<style scoped>\n",
              "    .dataframe tbody tr th:only-of-type {\n",
              "        vertical-align: middle;\n",
              "    }\n",
              "\n",
              "    .dataframe tbody tr th {\n",
              "        vertical-align: top;\n",
              "    }\n",
              "\n",
              "    .dataframe thead th {\n",
              "        text-align: right;\n",
              "    }\n",
              "</style>\n",
              "<table border=\"1\" class=\"dataframe\">\n",
              "  <thead>\n",
              "    <tr style=\"text-align: right;\">\n",
              "      <th></th>\n",
              "      <th>sofifa_id</th>\n",
              "      <th>age</th>\n",
              "      <th>height_cm</th>\n",
              "      <th>weight_kg</th>\n",
              "      <th>overall</th>\n",
              "      <th>potential</th>\n",
              "      <th>skill_moves</th>\n",
              "    </tr>\n",
              "  </thead>\n",
              "  <tbody>\n",
              "    <tr>\n",
              "      <th>0</th>\n",
              "      <td>158023</td>\n",
              "      <td>32</td>\n",
              "      <td>170</td>\n",
              "      <td>72</td>\n",
              "      <td>94</td>\n",
              "      <td>94</td>\n",
              "      <td>4</td>\n",
              "    </tr>\n",
              "    <tr>\n",
              "      <th>1</th>\n",
              "      <td>20801</td>\n",
              "      <td>34</td>\n",
              "      <td>187</td>\n",
              "      <td>83</td>\n",
              "      <td>93</td>\n",
              "      <td>93</td>\n",
              "      <td>5</td>\n",
              "    </tr>\n",
              "    <tr>\n",
              "      <th>2</th>\n",
              "      <td>190871</td>\n",
              "      <td>27</td>\n",
              "      <td>175</td>\n",
              "      <td>68</td>\n",
              "      <td>92</td>\n",
              "      <td>92</td>\n",
              "      <td>5</td>\n",
              "    </tr>\n",
              "    <tr>\n",
              "      <th>3</th>\n",
              "      <td>200389</td>\n",
              "      <td>26</td>\n",
              "      <td>188</td>\n",
              "      <td>87</td>\n",
              "      <td>91</td>\n",
              "      <td>93</td>\n",
              "      <td>1</td>\n",
              "    </tr>\n",
              "    <tr>\n",
              "      <th>4</th>\n",
              "      <td>183277</td>\n",
              "      <td>28</td>\n",
              "      <td>175</td>\n",
              "      <td>74</td>\n",
              "      <td>91</td>\n",
              "      <td>91</td>\n",
              "      <td>4</td>\n",
              "    </tr>\n",
              "    <tr>\n",
              "      <th>...</th>\n",
              "      <td>...</td>\n",
              "      <td>...</td>\n",
              "      <td>...</td>\n",
              "      <td>...</td>\n",
              "      <td>...</td>\n",
              "      <td>...</td>\n",
              "      <td>...</td>\n",
              "    </tr>\n",
              "    <tr>\n",
              "      <th>18273</th>\n",
              "      <td>245006</td>\n",
              "      <td>22</td>\n",
              "      <td>186</td>\n",
              "      <td>79</td>\n",
              "      <td>48</td>\n",
              "      <td>56</td>\n",
              "      <td>2</td>\n",
              "    </tr>\n",
              "    <tr>\n",
              "      <th>18274</th>\n",
              "      <td>250995</td>\n",
              "      <td>22</td>\n",
              "      <td>177</td>\n",
              "      <td>66</td>\n",
              "      <td>48</td>\n",
              "      <td>56</td>\n",
              "      <td>2</td>\n",
              "    </tr>\n",
              "    <tr>\n",
              "      <th>18275</th>\n",
              "      <td>252332</td>\n",
              "      <td>19</td>\n",
              "      <td>186</td>\n",
              "      <td>75</td>\n",
              "      <td>48</td>\n",
              "      <td>56</td>\n",
              "      <td>2</td>\n",
              "    </tr>\n",
              "    <tr>\n",
              "      <th>18276</th>\n",
              "      <td>251110</td>\n",
              "      <td>18</td>\n",
              "      <td>185</td>\n",
              "      <td>74</td>\n",
              "      <td>48</td>\n",
              "      <td>54</td>\n",
              "      <td>2</td>\n",
              "    </tr>\n",
              "    <tr>\n",
              "      <th>18277</th>\n",
              "      <td>233449</td>\n",
              "      <td>26</td>\n",
              "      <td>182</td>\n",
              "      <td>78</td>\n",
              "      <td>48</td>\n",
              "      <td>51</td>\n",
              "      <td>2</td>\n",
              "    </tr>\n",
              "  </tbody>\n",
              "</table>\n",
              "<p>18278 rows × 7 columns</p>\n",
              "</div>"
            ],
            "text/plain": [
              "       sofifa_id  age  height_cm  weight_kg  overall  potential  skill_moves\n",
              "0         158023   32        170         72       94         94            4\n",
              "1          20801   34        187         83       93         93            5\n",
              "2         190871   27        175         68       92         92            5\n",
              "3         200389   26        188         87       91         93            1\n",
              "4         183277   28        175         74       91         91            4\n",
              "...          ...  ...        ...        ...      ...        ...          ...\n",
              "18273     245006   22        186         79       48         56            2\n",
              "18274     250995   22        177         66       48         56            2\n",
              "18275     252332   19        186         75       48         56            2\n",
              "18276     251110   18        185         74       48         54            2\n",
              "18277     233449   26        182         78       48         51            2\n",
              "\n",
              "[18278 rows x 7 columns]"
            ]
          },
          "metadata": {
            "tags": []
          },
          "execution_count": 5
        }
      ]
    },
    {
      "cell_type": "code",
      "metadata": {
        "id": "9_nQ_mv7oe7U",
        "colab_type": "code",
        "outputId": "414d7c11-39cb-4349-ee68-5cc6ad7bb9b9",
        "colab": {
          "base_uri": "https://localhost:8080/",
          "height": 284
        }
      },
      "source": [
        "#mencek data missing\n",
        "dataset.describe()"
      ],
      "execution_count": 6,
      "outputs": [
        {
          "output_type": "execute_result",
          "data": {
            "text/html": [
              "<div>\n",
              "<style scoped>\n",
              "    .dataframe tbody tr th:only-of-type {\n",
              "        vertical-align: middle;\n",
              "    }\n",
              "\n",
              "    .dataframe tbody tr th {\n",
              "        vertical-align: top;\n",
              "    }\n",
              "\n",
              "    .dataframe thead th {\n",
              "        text-align: right;\n",
              "    }\n",
              "</style>\n",
              "<table border=\"1\" class=\"dataframe\">\n",
              "  <thead>\n",
              "    <tr style=\"text-align: right;\">\n",
              "      <th></th>\n",
              "      <th>sofifa_id</th>\n",
              "      <th>age</th>\n",
              "      <th>height_cm</th>\n",
              "      <th>weight_kg</th>\n",
              "      <th>overall</th>\n",
              "      <th>potential</th>\n",
              "      <th>skill_moves</th>\n",
              "    </tr>\n",
              "  </thead>\n",
              "  <tbody>\n",
              "    <tr>\n",
              "      <th>count</th>\n",
              "      <td>18278.000000</td>\n",
              "      <td>18278.000000</td>\n",
              "      <td>18278.000000</td>\n",
              "      <td>18278.000000</td>\n",
              "      <td>18278.000000</td>\n",
              "      <td>18278.000000</td>\n",
              "      <td>18278.000000</td>\n",
              "    </tr>\n",
              "    <tr>\n",
              "      <th>mean</th>\n",
              "      <td>219738.864482</td>\n",
              "      <td>25.283291</td>\n",
              "      <td>181.362184</td>\n",
              "      <td>75.276343</td>\n",
              "      <td>66.244994</td>\n",
              "      <td>71.546887</td>\n",
              "      <td>2.368038</td>\n",
              "    </tr>\n",
              "    <tr>\n",
              "      <th>std</th>\n",
              "      <td>27960.200461</td>\n",
              "      <td>4.656964</td>\n",
              "      <td>6.756961</td>\n",
              "      <td>7.047744</td>\n",
              "      <td>6.949953</td>\n",
              "      <td>6.139669</td>\n",
              "      <td>0.765038</td>\n",
              "    </tr>\n",
              "    <tr>\n",
              "      <th>min</th>\n",
              "      <td>768.000000</td>\n",
              "      <td>16.000000</td>\n",
              "      <td>156.000000</td>\n",
              "      <td>50.000000</td>\n",
              "      <td>48.000000</td>\n",
              "      <td>49.000000</td>\n",
              "      <td>1.000000</td>\n",
              "    </tr>\n",
              "    <tr>\n",
              "      <th>25%</th>\n",
              "      <td>204445.500000</td>\n",
              "      <td>22.000000</td>\n",
              "      <td>177.000000</td>\n",
              "      <td>70.000000</td>\n",
              "      <td>62.000000</td>\n",
              "      <td>67.000000</td>\n",
              "      <td>2.000000</td>\n",
              "    </tr>\n",
              "    <tr>\n",
              "      <th>50%</th>\n",
              "      <td>226165.000000</td>\n",
              "      <td>25.000000</td>\n",
              "      <td>181.000000</td>\n",
              "      <td>75.000000</td>\n",
              "      <td>66.000000</td>\n",
              "      <td>71.000000</td>\n",
              "      <td>2.000000</td>\n",
              "    </tr>\n",
              "    <tr>\n",
              "      <th>75%</th>\n",
              "      <td>240795.750000</td>\n",
              "      <td>29.000000</td>\n",
              "      <td>186.000000</td>\n",
              "      <td>80.000000</td>\n",
              "      <td>71.000000</td>\n",
              "      <td>75.000000</td>\n",
              "      <td>3.000000</td>\n",
              "    </tr>\n",
              "    <tr>\n",
              "      <th>max</th>\n",
              "      <td>252905.000000</td>\n",
              "      <td>42.000000</td>\n",
              "      <td>205.000000</td>\n",
              "      <td>110.000000</td>\n",
              "      <td>94.000000</td>\n",
              "      <td>95.000000</td>\n",
              "      <td>5.000000</td>\n",
              "    </tr>\n",
              "  </tbody>\n",
              "</table>\n",
              "</div>"
            ],
            "text/plain": [
              "           sofifa_id           age  ...     potential   skill_moves\n",
              "count   18278.000000  18278.000000  ...  18278.000000  18278.000000\n",
              "mean   219738.864482     25.283291  ...     71.546887      2.368038\n",
              "std     27960.200461      4.656964  ...      6.139669      0.765038\n",
              "min       768.000000     16.000000  ...     49.000000      1.000000\n",
              "25%    204445.500000     22.000000  ...     67.000000      2.000000\n",
              "50%    226165.000000     25.000000  ...     71.000000      2.000000\n",
              "75%    240795.750000     29.000000  ...     75.000000      3.000000\n",
              "max    252905.000000     42.000000  ...     95.000000      5.000000\n",
              "\n",
              "[8 rows x 7 columns]"
            ]
          },
          "metadata": {
            "tags": []
          },
          "execution_count": 6
        }
      ]
    },
    {
      "cell_type": "code",
      "metadata": {
        "id": "Za25vtO5lxs6",
        "colab_type": "code",
        "outputId": "d58ded43-d170-40d8-8476-3f52cf095ea1",
        "colab": {
          "base_uri": "https://localhost:8080/",
          "height": 34
        }
      },
      "source": [
        "print(dataset.shape)"
      ],
      "execution_count": 7,
      "outputs": [
        {
          "output_type": "stream",
          "text": [
            "(18278, 7)\n"
          ],
          "name": "stdout"
        }
      ]
    },
    {
      "cell_type": "markdown",
      "metadata": {
        "id": "gdcHNZ62n5uL",
        "colab_type": "text"
      },
      "source": [
        "mengeksplorasi data mana yang berkorelasi, berhubungann"
      ]
    },
    {
      "cell_type": "code",
      "metadata": {
        "id": "2l1NuzN-ojA5",
        "colab_type": "code",
        "colab": {
          "base_uri": "https://localhost:8080/",
          "height": 70
        },
        "outputId": "b03a6d95-093e-4fda-ca1d-5258cfea855e"
      },
      "source": [
        "import seaborn as sns\n",
        "sns.set_style(\"whitegrid\")\n",
        "import matplotlib.pyplot as plt\n",
        "%matplotlib inline "
      ],
      "execution_count": 8,
      "outputs": [
        {
          "output_type": "stream",
          "text": [
            "/usr/local/lib/python3.6/dist-packages/statsmodels/tools/_testing.py:19: FutureWarning: pandas.util.testing is deprecated. Use the functions in the public API at pandas.testing instead.\n",
            "  import pandas.util.testing as tm\n"
          ],
          "name": "stderr"
        }
      ]
    },
    {
      "cell_type": "code",
      "metadata": {
        "id": "B8M9eJ0Moqko",
        "colab_type": "code",
        "outputId": "5ff35172-292b-42a6-f1d9-ae73eebe37f9",
        "colab": {
          "base_uri": "https://localhost:8080/",
          "height": 642
        }
      },
      "source": [
        "#melihat korelasi antar data\n",
        "import matplotlib as mpl\n",
        "mpl.rcParams['figure.dpi'] = 75\n",
        "corr = dataset.select_dtypes(include = ['float64', 'int64']).iloc[:, :].corr()\n",
        "plt.figure(figsize=(10, 10))\n",
        "ax = sns.heatmap(corr, vmax=1, square=True)\n",
        "plt.xticks(rotation=45)\n",
        "plt.yticks(rotation=45)"
      ],
      "execution_count": 9,
      "outputs": [
        {
          "output_type": "execute_result",
          "data": {
            "text/plain": [
              "(array([0.5, 1.5, 2.5, 3.5, 4.5, 5.5, 6.5]),\n",
              " <a list of 7 Text major ticklabel objects>)"
            ]
          },
          "metadata": {
            "tags": []
          },
          "execution_count": 9
        },
        {
          "output_type": "display_data",
          "data": {
            "image/png": "[encoded data removed]",
            "text/plain": [
              "<Figure size 750x750 with 2 Axes>"
            ]
          },
          "metadata": {
            "tags": [],
            "needs_background": "light"
          }
        }
      ]
    },
    {
      "cell_type": "code",
      "metadata": {
        "id": "Gomd5j8PqJoA",
        "colab_type": "code",
        "outputId": "d2e57e9f-2b06-43d4-ad44-c3d3b5dd5394",
        "colab": {
          "base_uri": "https://localhost:8080/",
          "height": 402
        }
      },
      "source": [
        "#data untuk classification\n",
        "clas = pd.DataFrame(dataset, columns=['height_cm', 'weight_kg', 'skill_moves'])\n",
        "clas"
      ],
      "execution_count": 10,
      "outputs": [
        {
          "output_type": "execute_result",
          "data": {
            "text/html": [
              "<div>\n",
              "<style scoped>\n",
              "    .dataframe tbody tr th:only-of-type {\n",
              "        vertical-align: middle;\n",
              "    }\n",
              "\n",
              "    .dataframe tbody tr th {\n",
              "        vertical-align: top;\n",
              "    }\n",
              "\n",
              "    .dataframe thead th {\n",
              "        text-align: right;\n",
              "    }\n",
              "</style>\n",
              "<table border=\"1\" class=\"dataframe\">\n",
              "  <thead>\n",
              "    <tr style=\"text-align: right;\">\n",
              "      <th></th>\n",
              "      <th>height_cm</th>\n",
              "      <th>weight_kg</th>\n",
              "      <th>skill_moves</th>\n",
              "    </tr>\n",
              "  </thead>\n",
              "  <tbody>\n",
              "    <tr>\n",
              "      <th>0</th>\n",
              "      <td>170</td>\n",
              "      <td>72</td>\n",
              "      <td>4</td>\n",
              "    </tr>\n",
              "    <tr>\n",
              "      <th>1</th>\n",
              "      <td>187</td>\n",
              "      <td>83</td>\n",
              "      <td>5</td>\n",
              "    </tr>\n",
              "    <tr>\n",
              "      <th>2</th>\n",
              "      <td>175</td>\n",
              "      <td>68</td>\n",
              "      <td>5</td>\n",
              "    </tr>\n",
              "    <tr>\n",
              "      <th>3</th>\n",
              "      <td>188</td>\n",
              "      <td>87</td>\n",
              "      <td>1</td>\n",
              "    </tr>\n",
              "    <tr>\n",
              "      <th>4</th>\n",
              "      <td>175</td>\n",
              "      <td>74</td>\n",
              "      <td>4</td>\n",
              "    </tr>\n",
              "    <tr>\n",
              "      <th>...</th>\n",
              "      <td>...</td>\n",
              "      <td>...</td>\n",
              "      <td>...</td>\n",
              "    </tr>\n",
              "    <tr>\n",
              "      <th>18273</th>\n",
              "      <td>186</td>\n",
              "      <td>79</td>\n",
              "      <td>2</td>\n",
              "    </tr>\n",
              "    <tr>\n",
              "      <th>18274</th>\n",
              "      <td>177</td>\n",
              "      <td>66</td>\n",
              "      <td>2</td>\n",
              "    </tr>\n",
              "    <tr>\n",
              "      <th>18275</th>\n",
              "      <td>186</td>\n",
              "      <td>75</td>\n",
              "      <td>2</td>\n",
              "    </tr>\n",
              "    <tr>\n",
              "      <th>18276</th>\n",
              "      <td>185</td>\n",
              "      <td>74</td>\n",
              "      <td>2</td>\n",
              "    </tr>\n",
              "    <tr>\n",
              "      <th>18277</th>\n",
              "      <td>182</td>\n",
              "      <td>78</td>\n",
              "      <td>2</td>\n",
              "    </tr>\n",
              "  </tbody>\n",
              "</table>\n",
              "<p>18278 rows × 3 columns</p>\n",
              "</div>"
            ],
            "text/plain": [
              "       height_cm  weight_kg  skill_moves\n",
              "0            170         72            4\n",
              "1            187         83            5\n",
              "2            175         68            5\n",
              "3            188         87            1\n",
              "4            175         74            4\n",
              "...          ...        ...          ...\n",
              "18273        186         79            2\n",
              "18274        177         66            2\n",
              "18275        186         75            2\n",
              "18276        185         74            2\n",
              "18277        182         78            2\n",
              "\n",
              "[18278 rows x 3 columns]"
            ]
          },
          "metadata": {
            "tags": []
          },
          "execution_count": 10
        }
      ]
    },
    {
      "cell_type": "code",
      "metadata": {
        "id": "paV-1dR8hXXI",
        "colab_type": "code",
        "colab": {}
      },
      "source": [
        "#menyimpan dataset Classification\n",
        "clas.to_csv(\"classification.csv\", index = False)"
      ],
      "execution_count": 0,
      "outputs": []
    },
    {
      "cell_type": "markdown",
      "metadata": {
        "id": "O42d9erqw5_X",
        "colab_type": "text"
      },
      "source": [
        "melakukan train split data"
      ]
    },
    {
      "cell_type": "code",
      "metadata": {
        "id": "M4qd1eFWrJjf",
        "colab_type": "code",
        "colab": {}
      },
      "source": [
        "import numpy as np\n",
        "from sklearn.model_selection import train_test_split"
      ],
      "execution_count": 0,
      "outputs": []
    },
    {
      "cell_type": "code",
      "metadata": {
        "id": "Lu48-52fx4Zo",
        "colab_type": "code",
        "outputId": "050fbae2-c631-451c-a416-e373594f5703",
        "colab": {
          "base_uri": "https://localhost:8080/",
          "height": 34
        }
      },
      "source": [
        "datatrain = np.array(pd.DataFrame(dataset, columns=['skill_moves']))\n",
        "datatrain[:,0]"
      ],
      "execution_count": 14,
      "outputs": [
        {
          "output_type": "execute_result",
          "data": {
            "text/plain": [
              "array([4, 5, 5, ..., 2, 2, 2])"
            ]
          },
          "metadata": {
            "tags": []
          },
          "execution_count": 14
        }
      ]
    },
    {
      "cell_type": "code",
      "metadata": {
        "id": "nWxJC86uzYU3",
        "colab_type": "code",
        "outputId": "c471e341-34ec-4f57-cbd3-cc543fe99507",
        "colab": {
          "base_uri": "https://localhost:8080/",
          "height": 134
        }
      },
      "source": [
        "datatrain1 = pd.DataFrame(dataset, columns=['height_cm', 'weight_kg'])\n",
        "datatrain1 = np.array(datatrain1)\n",
        "datatrain1"
      ],
      "execution_count": 15,
      "outputs": [
        {
          "output_type": "execute_result",
          "data": {
            "text/plain": [
              "array([[170,  72],\n",
              "       [187,  83],\n",
              "       [175,  68],\n",
              "       ...,\n",
              "       [186,  75],\n",
              "       [185,  74],\n",
              "       [182,  78]])"
            ]
          },
          "metadata": {
            "tags": []
          },
          "execution_count": 15
        }
      ]
    },
    {
      "cell_type": "code",
      "metadata": {
        "id": "igQ2ZCbHxle2",
        "colab_type": "code",
        "colab": {}
      },
      "source": [
        "#pakai ini langsung untuk ngerandom data dibagi tes sizenya\n",
        "X_train, X_test, y_train, y_test = train_test_split(datatrain1, datatrain, test_size=0.30, random_state=42)"
      ],
      "execution_count": 0,
      "outputs": []
    },
    {
      "cell_type": "code",
      "metadata": {
        "id": "k-TI3hhR0rIO",
        "colab_type": "code",
        "outputId": "139e849b-6f95-49a8-e9ad-7c972883e18c",
        "colab": {
          "base_uri": "https://localhost:8080/",
          "height": 134
        }
      },
      "source": [
        "#menyimpan data tinggi badan dan berat badan\n",
        "X_train"
      ],
      "execution_count": 17,
      "outputs": [
        {
          "output_type": "execute_result",
          "data": {
            "text/plain": [
              "array([[181,  69],\n",
              "       [189,  89],\n",
              "       [174,  76],\n",
              "       ...,\n",
              "       [193,  89],\n",
              "       [191,  86],\n",
              "       [188,  78]])"
            ]
          },
          "metadata": {
            "tags": []
          },
          "execution_count": 17
        }
      ]
    },
    {
      "cell_type": "code",
      "metadata": {
        "id": "-239fF-j02EI",
        "colab_type": "code",
        "outputId": "c149d93a-3c40-4f7a-b662-badbf739a798",
        "colab": {
          "base_uri": "https://localhost:8080/",
          "height": 134
        }
      },
      "source": [
        "#menyimpan data skill_moves\n",
        "y_train"
      ],
      "execution_count": 18,
      "outputs": [
        {
          "output_type": "execute_result",
          "data": {
            "text/plain": [
              "array([[2],\n",
              "       [3],\n",
              "       [3],\n",
              "       ...,\n",
              "       [1],\n",
              "       [3],\n",
              "       [2]])"
            ]
          },
          "metadata": {
            "tags": []
          },
          "execution_count": 18
        }
      ]
    },
    {
      "cell_type": "markdown",
      "metadata": {
        "id": "u_cghhSsoWA8",
        "colab_type": "text"
      },
      "source": [
        "alasan menggunakan naive bayes: karna bisa di gunakan untuk data kuantitatif maupun kualitatif, perhitungannya cepat,codingannya mudah sederhana dan mudah dipahami. "
      ]
    },
    {
      "cell_type": "code",
      "metadata": {
        "id": "Mxqas0bt1CkG",
        "colab_type": "code",
        "colab": {}
      },
      "source": [
        "#menggunakan naive bayes\n",
        "from sklearn.naive_bayes import CategoricalNB"
      ],
      "execution_count": 0,
      "outputs": []
    },
    {
      "cell_type": "code",
      "metadata": {
        "id": "JlWoI_1B1GtY",
        "colab_type": "code",
        "outputId": "2a99f512-d641-40d4-cd8c-ac908544e92e",
        "colab": {
          "base_uri": "https://localhost:8080/",
          "height": 87
        }
      },
      "source": [
        "clf = CategoricalNB()\n",
        "clf.fit(X_train,y_train)"
      ],
      "execution_count": 20,
      "outputs": [
        {
          "output_type": "stream",
          "text": [
            "/usr/local/lib/python3.6/dist-packages/sklearn/utils/validation.py:760: DataConversionWarning: A column-vector y was passed when a 1d array was expected. Please change the shape of y to (n_samples, ), for example using ravel().\n",
            "  y = column_or_1d(y, warn=True)\n"
          ],
          "name": "stderr"
        },
        {
          "output_type": "execute_result",
          "data": {
            "text/plain": [
              "CategoricalNB(alpha=1.0, class_prior=None, fit_prior=True)"
            ]
          },
          "metadata": {
            "tags": []
          },
          "execution_count": 20
        }
      ]
    },
    {
      "cell_type": "code",
      "metadata": {
        "id": "91DAqC3UFxi5",
        "colab_type": "code",
        "outputId": "80247911-c375-48ef-8932-2de0a9b5c951",
        "colab": {
          "base_uri": "https://localhost:8080/",
          "height": 134
        }
      },
      "source": [
        "X_test"
      ],
      "execution_count": 21,
      "outputs": [
        {
          "output_type": "execute_result",
          "data": {
            "text/plain": [
              "array([[183,  79],\n",
              "       [186,  80],\n",
              "       [185,  80],\n",
              "       ...,\n",
              "       [180,  79],\n",
              "       [171,  66],\n",
              "       [189,  85]])"
            ]
          },
          "metadata": {
            "tags": []
          },
          "execution_count": 21
        }
      ]
    },
    {
      "cell_type": "code",
      "metadata": {
        "id": "bd8t7ghG1YqP",
        "colab_type": "code",
        "colab": {}
      },
      "source": [
        "hasil = clf.predict(X_test)"
      ],
      "execution_count": 0,
      "outputs": []
    },
    {
      "cell_type": "code",
      "metadata": {
        "id": "KDmdYgoF-e7F",
        "colab_type": "code",
        "outputId": "116f0d22-fcb1-4dfe-eb6b-dd8bd317c149",
        "colab": {
          "base_uri": "https://localhost:8080/",
          "height": 218
        }
      },
      "source": [
        "#evaluating classification\n",
        "from sklearn.metrics import classification_report\n",
        "print(classification_report(y_test,hasil))"
      ],
      "execution_count": 23,
      "outputs": [
        {
          "output_type": "stream",
          "text": [
            "              precision    recall  f1-score   support\n",
            "\n",
            "           1       0.44      0.41      0.42       608\n",
            "           2       0.53      0.56      0.54      2591\n",
            "           3       0.50      0.54      0.52      1974\n",
            "           4       0.33      0.00      0.01       299\n",
            "           5       0.00      0.00      0.00        12\n",
            "\n",
            "    accuracy                           0.50      5484\n",
            "   macro avg       0.36      0.30      0.30      5484\n",
            "weighted avg       0.49      0.50      0.49      5484\n",
            "\n"
          ],
          "name": "stdout"
        }
      ]
    },
    {
      "cell_type": "markdown",
      "metadata": {
        "id": "WMIizQwWornZ",
        "colab_type": "text"
      },
      "source": [
        "alasan menggunakan svm: svm adalah algoritma supervised untuk klasifikasi yang bekerja dengan mencari hyperplane dengan margin terbesar."
      ]
    },
    {
      "cell_type": "code",
      "metadata": {
        "id": "Fu-QqnrYicYB",
        "colab_type": "code",
        "colab": {}
      },
      "source": [
        "#menggunakan SVM\n",
        "from sklearn import svm\n",
        "from sklearn.svm import SVC"
      ],
      "execution_count": 0,
      "outputs": []
    },
    {
      "cell_type": "code",
      "metadata": {
        "id": "rWX0Y0Ugiaqc",
        "colab_type": "code",
        "outputId": "c0415b69-7637-4e2a-eda4-562402b2f35e",
        "colab": {
          "base_uri": "https://localhost:8080/",
          "height": 138
        }
      },
      "source": [
        "cl = svm.SVC()\n",
        "cl.fit(X_train, y_train)\n",
        "SVC()"
      ],
      "execution_count": 25,
      "outputs": [
        {
          "output_type": "stream",
          "text": [
            "/usr/local/lib/python3.6/dist-packages/sklearn/utils/validation.py:760: DataConversionWarning: A column-vector y was passed when a 1d array was expected. Please change the shape of y to (n_samples, ), for example using ravel().\n",
            "  y = column_or_1d(y, warn=True)\n"
          ],
          "name": "stderr"
        },
        {
          "output_type": "execute_result",
          "data": {
            "text/plain": [
              "SVC(C=1.0, break_ties=False, cache_size=200, class_weight=None, coef0=0.0,\n",
              "    decision_function_shape='ovr', degree=3, gamma='scale', kernel='rbf',\n",
              "    max_iter=-1, probability=False, random_state=None, shrinking=True,\n",
              "    tol=0.001, verbose=False)"
            ]
          },
          "metadata": {
            "tags": []
          },
          "execution_count": 25
        }
      ]
    },
    {
      "cell_type": "code",
      "metadata": {
        "id": "JC4co8u3IfkV",
        "colab_type": "code",
        "outputId": "76f9630d-c6fc-482c-b813-6fbab7226aff",
        "colab": {
          "base_uri": "https://localhost:8080/",
          "height": 134
        }
      },
      "source": [
        "X_test"
      ],
      "execution_count": 26,
      "outputs": [
        {
          "output_type": "execute_result",
          "data": {
            "text/plain": [
              "array([[183,  79],\n",
              "       [186,  80],\n",
              "       [185,  80],\n",
              "       ...,\n",
              "       [180,  79],\n",
              "       [171,  66],\n",
              "       [189,  85]])"
            ]
          },
          "metadata": {
            "tags": []
          },
          "execution_count": 26
        }
      ]
    },
    {
      "cell_type": "code",
      "metadata": {
        "id": "kV3Ui0jfi6mO",
        "colab_type": "code",
        "colab": {}
      },
      "source": [
        "hasil2 = cl.predict(X_test)"
      ],
      "execution_count": 0,
      "outputs": []
    },
    {
      "cell_type": "code",
      "metadata": {
        "id": "ePtPFSqsm53d",
        "colab_type": "code",
        "outputId": "aadc8532-ddb2-45d4-e6ec-3c0c83b03e20",
        "colab": {
          "base_uri": "https://localhost:8080/",
          "height": 272
        }
      },
      "source": [
        "#evaluating classification\n",
        "from sklearn.metrics import classification_report\n",
        "print(classification_report(y_test,hasil2))"
      ],
      "execution_count": 28,
      "outputs": [
        {
          "output_type": "stream",
          "text": [
            "              precision    recall  f1-score   support\n",
            "\n",
            "           1       0.00      0.00      0.00       608\n",
            "           2       0.50      0.83      0.62      2591\n",
            "           3       0.53      0.32      0.40      1974\n",
            "           4       0.00      0.00      0.00       299\n",
            "           5       0.00      0.00      0.00        12\n",
            "\n",
            "    accuracy                           0.51      5484\n",
            "   macro avg       0.21      0.23      0.20      5484\n",
            "weighted avg       0.43      0.51      0.44      5484\n",
            "\n"
          ],
          "name": "stdout"
        },
        {
          "output_type": "stream",
          "text": [
            "/usr/local/lib/python3.6/dist-packages/sklearn/metrics/_classification.py:1272: UndefinedMetricWarning: Precision and F-score are ill-defined and being set to 0.0 in labels with no predicted samples. Use `zero_division` parameter to control this behavior.\n",
            "  _warn_prf(average, modifier, msg_start, len(result))\n"
          ],
          "name": "stderr"
        }
      ]
    },
    {
      "cell_type": "markdown",
      "metadata": {
        "id": "MojbS1Ehc4Wi",
        "colab_type": "text"
      },
      "source": [
        "kesimpulan dari classification ini, akurasi menggunakan naive bayes sebesar 50% sedangkan dengan SVM sebesar 51%.\n",
        "HAsil akurasi SVM lebih tinggi dan lebih baik dari naivebayes"
      ]
    }
  ]
}